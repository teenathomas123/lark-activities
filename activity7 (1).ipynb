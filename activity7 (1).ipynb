{
 "cells": [
  {
   "cell_type": "code",
   "execution_count": 5,
   "id": "1a4d8577",
   "metadata": {},
   "outputs": [],
   "source": [
    "import pandas as pd\n",
    "import numpy as np\n",
    "import scipy.stats as stats"
   ]
  },
  {
   "cell_type": "code",
   "execution_count": 6,
   "id": "f2bcefe8",
   "metadata": {},
   "outputs": [],
   "source": [
    "data=pd.read_csv(\"dataset w7.csv\")"
   ]
  },
  {
   "cell_type": "markdown",
   "id": "1d754cb4",
   "metadata": {},
   "source": [
    "# 1.Descriptive analysis on the dataset"
   ]
  },
  {
   "cell_type": "code",
   "execution_count": 7,
   "id": "8cf49850",
   "metadata": {},
   "outputs": [
    {
     "data": {
      "text/html": [
       "<div>\n",
       "<style scoped>\n",
       "    .dataframe tbody tr th:only-of-type {\n",
       "        vertical-align: middle;\n",
       "    }\n",
       "\n",
       "    .dataframe tbody tr th {\n",
       "        vertical-align: top;\n",
       "    }\n",
       "\n",
       "    .dataframe thead th {\n",
       "        text-align: right;\n",
       "    }\n",
       "</style>\n",
       "<table border=\"1\" class=\"dataframe\">\n",
       "  <thead>\n",
       "    <tr style=\"text-align: right;\">\n",
       "      <th></th>\n",
       "      <th>Total Marks</th>\n",
       "    </tr>\n",
       "  </thead>\n",
       "  <tbody>\n",
       "    <tr>\n",
       "      <th>count</th>\n",
       "      <td>28.000000</td>\n",
       "    </tr>\n",
       "    <tr>\n",
       "      <th>mean</th>\n",
       "      <td>32.321429</td>\n",
       "    </tr>\n",
       "    <tr>\n",
       "      <th>std</th>\n",
       "      <td>12.454520</td>\n",
       "    </tr>\n",
       "    <tr>\n",
       "      <th>min</th>\n",
       "      <td>12.000000</td>\n",
       "    </tr>\n",
       "    <tr>\n",
       "      <th>25%</th>\n",
       "      <td>22.500000</td>\n",
       "    </tr>\n",
       "    <tr>\n",
       "      <th>50%</th>\n",
       "      <td>33.000000</td>\n",
       "    </tr>\n",
       "    <tr>\n",
       "      <th>75%</th>\n",
       "      <td>43.250000</td>\n",
       "    </tr>\n",
       "    <tr>\n",
       "      <th>max</th>\n",
       "      <td>50.000000</td>\n",
       "    </tr>\n",
       "  </tbody>\n",
       "</table>\n",
       "</div>"
      ],
      "text/plain": [
       "       Total Marks\n",
       "count    28.000000\n",
       "mean     32.321429\n",
       "std      12.454520\n",
       "min      12.000000\n",
       "25%      22.500000\n",
       "50%      33.000000\n",
       "75%      43.250000\n",
       "max      50.000000"
      ]
     },
     "execution_count": 7,
     "metadata": {},
     "output_type": "execute_result"
    }
   ],
   "source": [
    "data.describe()"
   ]
  },
  {
   "cell_type": "markdown",
   "id": "d5ada461",
   "metadata": {},
   "source": [
    "# Question 2"
   ]
  },
  {
   "cell_type": "code",
   "execution_count": 40,
   "id": "4563aaaa",
   "metadata": {},
   "outputs": [],
   "source": [
    "ttest,pval=stats.ttest_ind(data['Total Marks'][data['Gender'] == 'male'],\n",
    "                 data['Total Marks'][data['Gender'] == 'female'])"
   ]
  },
  {
   "cell_type": "code",
   "execution_count": 41,
   "id": "d21cfb9f",
   "metadata": {},
   "outputs": [
    {
     "data": {
      "text/plain": [
       "(-0.6940885268848668, 0.4937822317960763)"
      ]
     },
     "execution_count": 41,
     "metadata": {},
     "output_type": "execute_result"
    }
   ],
   "source": [
    "ttest,pval"
   ]
  },
  {
   "cell_type": "code",
   "execution_count": 42,
   "id": "f4eeb538",
   "metadata": {},
   "outputs": [],
   "source": [
    "data_male=data.loc[data[\"Gender\"]==\"male\"]\n",
    "data_female=data.loc[data[\"Gender\"]==\"female\"]"
   ]
  },
  {
   "cell_type": "code",
   "execution_count": 43,
   "id": "57e1f4e5",
   "metadata": {},
   "outputs": [],
   "source": [
    "df=(len(data_male)-1)+(len(data_female)-1)"
   ]
  },
  {
   "cell_type": "code",
   "execution_count": 44,
   "id": "5cc5da48",
   "metadata": {},
   "outputs": [
    {
     "data": {
      "text/plain": [
       "26"
      ]
     },
     "execution_count": 44,
     "metadata": {},
     "output_type": "execute_result"
    }
   ],
   "source": [
    "df"
   ]
  },
  {
   "cell_type": "raw",
   "id": "1f6030cd",
   "metadata": {},
   "source": [
    "significance level=5%=0.05"
   ]
  },
  {
   "cell_type": "code",
   "execution_count": 45,
   "id": "bdf7b326",
   "metadata": {},
   "outputs": [],
   "source": [
    "#find T critical value\n",
    "value = stats.t.ppf(q=1-0.05/2,df=df)"
   ]
  },
  {
   "cell_type": "code",
   "execution_count": 46,
   "id": "3f112dd8",
   "metadata": {},
   "outputs": [
    {
     "data": {
      "text/plain": [
       "2.055529438642871"
      ]
     },
     "execution_count": 46,
     "metadata": {},
     "output_type": "execute_result"
    }
   ],
   "source": [
    "value"
   ]
  },
  {
   "cell_type": "code",
   "execution_count": 47,
   "id": "81c6ef4e",
   "metadata": {},
   "outputs": [
    {
     "name": "stdout",
     "output_type": "stream",
     "text": [
      "we are accepting null hypothesis\n"
     ]
    }
   ],
   "source": [
    "if ((ttest)>value) & (pval<0.05):\n",
    "    print(\"we are rejecting null hypothesis\")\n",
    "else:\n",
    "    print(\"we are accepting null hypothesis\")\n",
    "\n",
    "    "
   ]
  },
  {
   "cell_type": "markdown",
   "id": "e0188f11",
   "metadata": {},
   "source": [
    "# Question 3"
   ]
  },
  {
   "cell_type": "code",
   "execution_count": 48,
   "id": "d867080f",
   "metadata": {},
   "outputs": [],
   "source": [
    "Null hypothesis:Test preparation does not help students\n",
    "Alternate hypothesis: Test preparation help students\n",
    "    "
   ]
  },
  {
   "cell_type": "code",
   "execution_count": 49,
   "id": "bf803756",
   "metadata": {},
   "outputs": [],
   "source": [
    "data_none=data.loc[data[\"Test preparation\"]==\"none\"]\n",
    "data_completed=data.loc[data[\"Test preparation\"]==\"completed\"]"
   ]
  },
  {
   "cell_type": "code",
   "execution_count": 52,
   "id": "f6b87f56",
   "metadata": {},
   "outputs": [],
   "source": [
    "ttest,pval=stats.ttest_ind(data_completed['Total Marks'],\n",
    "                 data_none['Total Marks'])"
   ]
  },
  {
   "cell_type": "code",
   "execution_count": 53,
   "id": "86ce7e8b",
   "metadata": {},
   "outputs": [
    {
     "data": {
      "text/plain": [
       "(3.6143637527769217, 0.0012671292457320106)"
      ]
     },
     "execution_count": 53,
     "metadata": {},
     "output_type": "execute_result"
    }
   ],
   "source": [
    "ttest,pval"
   ]
  },
  {
   "cell_type": "code",
   "execution_count": 54,
   "id": "da4933e1",
   "metadata": {},
   "outputs": [],
   "source": [
    "df=(len(data_none)-1)+(len(data_completed)-1)"
   ]
  },
  {
   "cell_type": "code",
   "execution_count": 55,
   "id": "01796252",
   "metadata": {},
   "outputs": [
    {
     "data": {
      "text/plain": [
       "26"
      ]
     },
     "execution_count": 55,
     "metadata": {},
     "output_type": "execute_result"
    }
   ],
   "source": [
    "df"
   ]
  },
  {
   "cell_type": "code",
   "execution_count": 56,
   "id": "f43a7e3a",
   "metadata": {},
   "outputs": [
    {
     "name": "stdout",
     "output_type": "stream",
     "text": [
      "we are rejecting null hypothesis\n"
     ]
    }
   ],
   "source": [
    "if ((ttest)>value) & (pval<0.05):\n",
    "    print(\"we are rejecting null hypothesis\")\n",
    "else:\n",
    "    print(\"we are accepting null hypothesis\")\n"
   ]
  },
  {
   "cell_type": "raw",
   "id": "868df803",
   "metadata": {},
   "source": [
    "Test Preparation help students"
   ]
  },
  {
   "cell_type": "code",
   "execution_count": null,
   "id": "df4c0128",
   "metadata": {},
   "outputs": [],
   "source": []
  }
 ],
 "metadata": {
  "kernelspec": {
   "display_name": "Python 3 (ipykernel)",
   "language": "python",
   "name": "python3"
  },
  "language_info": {
   "codemirror_mode": {
    "name": "ipython",
    "version": 3
   },
   "file_extension": ".py",
   "mimetype": "text/x-python",
   "name": "python",
   "nbconvert_exporter": "python",
   "pygments_lexer": "ipython3",
   "version": "3.9.7"
  }
 },
 "nbformat": 4,
 "nbformat_minor": 5
}
